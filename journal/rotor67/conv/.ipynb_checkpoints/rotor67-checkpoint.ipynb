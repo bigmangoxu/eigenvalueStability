{
 "cells": [
  {
   "cell_type": "code",
   "execution_count": 36,
   "metadata": {},
   "outputs": [],
   "source": [
    "import os\n",
    "import math\n",
    "import numpy as np\n",
    "import scipy\n",
    "from matplotlib import pyplot as plt \n",
    "from matplotlib.backends.backend_pdf import PdfPages"
   ]
  },
  {
   "cell_type": "code",
   "execution_count": 43,
   "metadata": {},
   "outputs": [
    {
     "data": {
      "image/png": "[encoded data removed]",
      "text/plain": [
       "<Figure size 288x288 with 1 Axes>"
      ]
     },
     "metadata": {
      "needs_background": "light"
     },
     "output_type": "display_data"
    },
    {
     "data": {
      "image/png": "[encoded data removed]",
      "text/plain": [
       "<Figure size 288x288 with 1 Axes>"
      ]
     },
     "metadata": {
      "needs_background": "light"
     },
     "output_type": "display_data"
    }
   ],
   "source": [
    "c_cfd=np.loadtxt('data/performance-cfd-nuts')\n",
    "#c_cfd_numeca=np.loadtxt('data/performance-cfd-numeca')\n",
    "c_exp=np.loadtxt('data/performance-exp')\n",
    "\n",
    "outputfile='rotor67-pr.pdf'\n",
    "fig = plt.figure(figsize=plt.figaspect(1))\n",
    "plt.plot(c_exp[:,0],c_exp[:,1],'ks' ,markerfacecolor='white', markeredgecolor='black',markersize=9,label='EXP')\n",
    "plt.plot(c_cfd[:,0],c_cfd[:,1],'k-o',markerfacecolor='black', markeredgecolor='black',markersize=6,label='CFD')\n",
    "#plt.plot(c_cfd_numeca[:,0],c_cfd_numeca[:,1],'g-s',markersize=8,label='CFD-Fine/Turbo')\n",
    "\n",
    "plt.ylim(1.3,1.8)\n",
    "\n",
    "plt.legend()\n",
    "plt.xlabel('massflow [kg/s]')\n",
    "plt.ylabel('total pressure ratio [-]')\n",
    "plt.tight_layout()\n",
    "plt.show()\n",
    "#pdf=PdfPages(outputfile)\n",
    "#pdf.savefig()\n",
    "#plt.close()\n",
    "#pdf.close()\n",
    "\n",
    "outputfile='rotor67-eff.pdf'\n",
    "fig = plt.figure(figsize=plt.figaspect(1.0))\n",
    "plt.plot(c_exp[:,0],c_exp[:,2],'ks' ,markerfacecolor='white', markeredgecolor='black',markersize=9,label='EXP')\n",
    "plt.plot(c_cfd[:,0],c_cfd[:,2],'k-o',markerfacecolor='black', markeredgecolor='black',markersize=6,label='CFD')\n",
    "#plt.plot(c_cfd_numeca[:,0],c_cfd_numeca[:,2],'g-s',markersize=8,label='CFD-Fine/Turbo')\n",
    "plt.ylim(0.84,0.94)\n",
    "plt.legend()\n",
    "plt.xlabel('massflow [kg/s]')\n",
    "plt.ylabel('isentropic efficiency [-]')\n",
    "plt.tight_layout()\n",
    "plt.show()\n",
    "#pdf=PdfPages(outputfile)\n",
    "#pdf.savefig()\n",
    "#plt.close()\n",
    "#pdf.close()\n"
   ]
  },
  {
   "cell_type": "code",
   "execution_count": 53,
   "metadata": {},
   "outputs": [],
   "source": [
    "x0=np.loadtxt('data/output-0kpa')\n",
    "x1=np.loadtxt('data/output-5kpa')\n",
    "x2=np.loadtxt('data/output-10kpa')\n",
    "x3=np.loadtxt('data/output-15kpa')\n",
    "x4=np.loadtxt('data/output-20kpa')\n",
    "x5=np.loadtxt('data/output-21kpa')\n",
    "x6=np.loadtxt('data/output-21d1kpa')\n",
    "x7=np.loadtxt('data/output-21d2kpa')\n",
    "x8=np.loadtxt('data/output-21d3kpa')\n",
    "outputfile='rotor67-convergence.pdf'\n",
    "fig = plt.figure(figsize=plt.figaspect(1.0))\n",
    "plt.plot( x0[:,0], x0[:,1]- x0[0,1],'r-',markersize=3,label=u'0 kpa')\n",
    "plt.plot( x1[:,0], x1[:,1]- x0[0,1],'k-',markersize=3)\n",
    "plt.plot( x2[:,0], x2[:,1]- x0[0,1],'k-',markersize=3)\n",
    "plt.plot( x3[:,0], x3[:,1]- x0[0,1],'k-',markersize=3)\n",
    "plt.plot( x4[:,0], x4[:,1]- x0[0,1],'k-',markersize=3)\n",
    "plt.plot( x5[:,0], x5[:,1]- x0[0,1],'k-',markersize=3)\n",
    "plt.plot( x6[:,0], x6[:,1]- x0[0,1],'k-',markersize=3,label=u'5 to 21.1 kPa')\n",
    "plt.plot( x7[:,0], x7[:,1]- x0[0,1],'b-.',markersize=3,label=u'21.2 kPa')\n",
    "plt.plot( x8[:,0], x8[:,1]- x0[0,1],'r--',markersize=3,label=u'21.3 kPa')\n",
    "plt.xlim(0,300)\n",
    "plt.ylim(-10,2)\n",
    "plt.legend()\n",
    "plt.xlabel('nonlinear steps')\n",
    "plt.ylabel('log(res)')\n",
    "plt.tight_layout()\n",
    "#plt.show()\n",
    "pdf=PdfPages(outputfile)     \n",
    "pdf.savefig()\n",
    "plt.close()\n",
    "pdf.close() \n",
    "\n",
    "\n"
   ]
  },
  {
   "cell_type": "code",
   "execution_count": 41,
   "metadata": {},
   "outputs": [],
   "source": [
    "\n"
   ]
  },
  {
   "cell_type": "code",
   "execution_count": 54,
   "metadata": {},
   "outputs": [],
   "source": [
    "outputfile='rotor67-massflow.pdf'\n",
    "fig = plt.figure(figsize=plt.figaspect(1.0))\n",
    "plt.plot( x0[:,0], x0[:,4]*22,'r-',markersize=3,label=u'0 kpa')\n",
    "plt.plot( x1[:,0], x1[:,4]*22,'k-',markersize=3)\n",
    "plt.plot( x2[:,0], x2[:,4]*22,'k-',markersize=3)\n",
    "plt.plot( x3[:,0], x3[:,4]*22,'k-',markersize=3)\n",
    "plt.plot( x4[:,0], x4[:,4]*22,'k-',markersize=3)\n",
    "plt.plot( x5[:,0], x5[:,4]*22,'k-',markersize=3)\n",
    "plt.plot( x6[:,0], x6[:,4]*22,'k-',markersize=3,label=u'5 to 21.1 kPa')\n",
    "plt.plot( x7[:,0], x7[:,4]*22,'b-.',markersize=3,label=u'21.2 kPa')\n",
    "plt.plot( x8[:,0], x8[:,4]*22,'r--',markersize=3,label=u'21.3 kPa')\n",
    "plt.xlim(0,300)\n",
    "plt.ylim(5,40)\n",
    "plt.legend()\n",
    "plt.xlabel('nonlinear steps')\n",
    "plt.ylabel('outlet mass flow rate [kg/s]')\n",
    "plt.tight_layout()\n",
    "#plt.show()\n",
    "pdf=PdfPages(outputfile)     \n",
    "pdf.savefig()\n",
    "plt.close()\n",
    "pdf.close() \n"
   ]
  },
  {
   "cell_type": "code",
   "execution_count": 58,
   "metadata": {},
   "outputs": [],
   "source": [
    "outputfile='rotor67-cfl.pdf'\n",
    "fig = plt.figure(figsize=plt.figaspect(1.0))\n",
    "plt.plot( x0[:,0], x0[:,3],'r-',markersize=3,label=u'0 kpa')\n",
    "plt.plot( x1[:,0], x1[:,3],'k-',markersize=3)\n",
    "plt.plot( x2[:,0], x2[:,3],'k-',markersize=3)\n",
    "plt.plot( x3[:,0], x3[:,3],'k-',markersize=3)\n",
    "plt.plot( x4[:,0], x4[:,3],'k-',markersize=3)\n",
    "plt.plot( x5[:,0], x5[:,3],'k-',markersize=3)\n",
    "plt.plot( x6[:,0], x6[:,3],'k-',markersize=3,label=u'5 to 21.1 kPa')\n",
    "plt.plot( x7[:,0], x7[:,3],'b-.',markersize=3,label=u'21.2 kPa')\n",
    "plt.plot( x8[:,0], x8[:,3],'r--',markersize=3,label=u'21.3 kPa')\n",
    "plt.xlim(0,300)\n",
    "plt.ylim(1,1e6)\n",
    "plt.legend()\n",
    "plt.yscale('log')\n",
    "\n",
    "plt.xlabel('nonlinear steps')\n",
    "plt.ylabel('Courant number')\n",
    "plt.tight_layout()\n",
    "#plt.show()\n",
    "pdf=PdfPages(outputfile)     \n",
    "pdf.savefig()\n",
    "plt.close()\n",
    "pdf.close() \n",
    "\n"
   ]
  },
  {
   "cell_type": "code",
   "execution_count": 57,
   "metadata": {},
   "outputs": [],
   "source": [
    "outputfile='rotor67-gmres.pdf'\n",
    "fig = plt.figure(figsize=plt.figaspect(1.0))\n",
    "plt.plot( x0[:,0], x0[:,2],'r-',markersize=3,label=u'0 kpa')\n",
    "plt.plot( x1[:,0], x1[:,2],'k-',markersize=3)\n",
    "plt.plot( x2[:,0], x2[:,2],'k-',markersize=3)\n",
    "plt.plot( x3[:,0], x3[:,2],'k-',markersize=3)\n",
    "plt.plot( x4[:,0], x4[:,2],'k-',markersize=3)\n",
    "plt.plot( x5[:,0], x5[:,2],'k-',markersize=3)\n",
    "plt.plot( x6[:,0], x6[:,2],'k-',markersize=3,label=u'5 to 21.1 kPa')\n",
    "plt.plot( x7[:,0], x7[:,2],'b-.',markersize=3,label=u'21.2 kPa')\n",
    "plt.plot( x8[:,0], x8[:,2],'r--',markersize=3,label=u'21.3 kPa')\n",
    "plt.xlim(0,300)\n",
    "plt.ylim(0,500)\n",
    "plt.legend()\n",
    "plt.xlabel('nonlinear steps')\n",
    "plt.ylabel('GMRES vector')\n",
    "plt.tight_layout()\n",
    "#plt.show()\n",
    "pdf=PdfPages(outputfile)     \n",
    "pdf.savefig()\n",
    "plt.close()\n",
    "pdf.close() "
   ]
  },
  {
   "cell_type": "code",
   "execution_count": null,
   "metadata": {},
   "outputs": [],
   "source": []
  }
 ],
 "metadata": {
  "kernelspec": {
   "display_name": "Python 3",
   "language": "python",
   "name": "python3"
  },
  "language_info": {
   "codemirror_mode": {
    "name": "ipython",
    "version": 3
   },
   "file_extension": ".py",
   "mimetype": "text/x-python",
   "name": "python",
   "nbconvert_exporter": "python",
   "pygments_lexer": "ipython3",
   "version": "3.7.0"
  }
 },
 "nbformat": 4,
 "nbformat_minor": 2
}
